{
 "cells": [
  {
   "cell_type": "code",
   "execution_count": 1,
   "metadata": {},
   "outputs": [
    {
     "name": "stderr",
     "output_type": "stream",
     "text": [
      "/home/dul/anaconda3/lib/python3.8/site-packages/IPython/core/interactiveshell.py:3145: DtypeWarning: Columns (25,51) have mixed types.Specify dtype option on import or set low_memory=False.\n",
      "  has_raised = await self.run_ast_nodes(code_ast.body, cell_name,\n"
     ]
    },
    {
     "data": {
      "text/html": [
       "<div>\n",
       "<style scoped>\n",
       "    .dataframe tbody tr th:only-of-type {\n",
       "        vertical-align: middle;\n",
       "    }\n",
       "\n",
       "    .dataframe tbody tr th {\n",
       "        vertical-align: top;\n",
       "    }\n",
       "\n",
       "    .dataframe thead th {\n",
       "        text-align: right;\n",
       "    }\n",
       "</style>\n",
       "<table border=\"1\" class=\"dataframe\">\n",
       "  <thead>\n",
       "    <tr style=\"text-align: right;\">\n",
       "      <th></th>\n",
       "      <th>Date</th>\n",
       "      <th>GameID</th>\n",
       "      <th>Drive</th>\n",
       "      <th>qtr</th>\n",
       "      <th>down</th>\n",
       "      <th>time</th>\n",
       "      <th>TimeUnder</th>\n",
       "      <th>TimeSecs</th>\n",
       "      <th>PlayTimeDiff</th>\n",
       "      <th>SideofField</th>\n",
       "      <th>...</th>\n",
       "      <th>yacEPA</th>\n",
       "      <th>Home_WP_pre</th>\n",
       "      <th>Away_WP_pre</th>\n",
       "      <th>Home_WP_post</th>\n",
       "      <th>Away_WP_post</th>\n",
       "      <th>Win_Prob</th>\n",
       "      <th>WPA</th>\n",
       "      <th>airWPA</th>\n",
       "      <th>yacWPA</th>\n",
       "      <th>Season</th>\n",
       "    </tr>\n",
       "  </thead>\n",
       "  <tbody>\n",
       "    <tr>\n",
       "      <th>362442</th>\n",
       "      <td>2017-01-01</td>\n",
       "      <td>2017010102</td>\n",
       "      <td>20</td>\n",
       "      <td>4</td>\n",
       "      <td>1.0</td>\n",
       "      <td>00:22</td>\n",
       "      <td>1</td>\n",
       "      <td>22.0</td>\n",
       "      <td>6.0</td>\n",
       "      <td>GB</td>\n",
       "      <td>...</td>\n",
       "      <td>0.0</td>\n",
       "      <td>0.051901</td>\n",
       "      <td>0.948099</td>\n",
       "      <td>0.093435</td>\n",
       "      <td>0.906565</td>\n",
       "      <td>0.051901</td>\n",
       "      <td>0.041534</td>\n",
       "      <td>0.041534</td>\n",
       "      <td>0.0</td>\n",
       "      <td>2016</td>\n",
       "    </tr>\n",
       "    <tr>\n",
       "      <th>362443</th>\n",
       "      <td>2017-01-01</td>\n",
       "      <td>2017010102</td>\n",
       "      <td>20</td>\n",
       "      <td>4</td>\n",
       "      <td>NaN</td>\n",
       "      <td>00:13</td>\n",
       "      <td>1</td>\n",
       "      <td>13.0</td>\n",
       "      <td>9.0</td>\n",
       "      <td>GB</td>\n",
       "      <td>...</td>\n",
       "      <td>NaN</td>\n",
       "      <td>0.093435</td>\n",
       "      <td>0.906565</td>\n",
       "      <td>0.034069</td>\n",
       "      <td>0.965931</td>\n",
       "      <td>0.093435</td>\n",
       "      <td>-0.059366</td>\n",
       "      <td>NaN</td>\n",
       "      <td>NaN</td>\n",
       "      <td>2016</td>\n",
       "    </tr>\n",
       "    <tr>\n",
       "      <th>362444</th>\n",
       "      <td>2017-01-01</td>\n",
       "      <td>2017010102</td>\n",
       "      <td>21</td>\n",
       "      <td>4</td>\n",
       "      <td>NaN</td>\n",
       "      <td>00:13</td>\n",
       "      <td>1</td>\n",
       "      <td>13.0</td>\n",
       "      <td>0.0</td>\n",
       "      <td>DET</td>\n",
       "      <td>...</td>\n",
       "      <td>NaN</td>\n",
       "      <td>0.034069</td>\n",
       "      <td>0.965931</td>\n",
       "      <td>0.035708</td>\n",
       "      <td>0.964292</td>\n",
       "      <td>0.965931</td>\n",
       "      <td>-0.001639</td>\n",
       "      <td>NaN</td>\n",
       "      <td>NaN</td>\n",
       "      <td>2016</td>\n",
       "    </tr>\n",
       "    <tr>\n",
       "      <th>362445</th>\n",
       "      <td>2017-01-01</td>\n",
       "      <td>2017010102</td>\n",
       "      <td>21</td>\n",
       "      <td>4</td>\n",
       "      <td>1.0</td>\n",
       "      <td>00:12</td>\n",
       "      <td>1</td>\n",
       "      <td>12.0</td>\n",
       "      <td>1.0</td>\n",
       "      <td>DET</td>\n",
       "      <td>...</td>\n",
       "      <td>NaN</td>\n",
       "      <td>0.035708</td>\n",
       "      <td>0.964292</td>\n",
       "      <td>0.000000</td>\n",
       "      <td>1.000000</td>\n",
       "      <td>0.964292</td>\n",
       "      <td>0.035708</td>\n",
       "      <td>NaN</td>\n",
       "      <td>NaN</td>\n",
       "      <td>2016</td>\n",
       "    </tr>\n",
       "    <tr>\n",
       "      <th>362446</th>\n",
       "      <td>2017-01-01</td>\n",
       "      <td>2017010102</td>\n",
       "      <td>21</td>\n",
       "      <td>4</td>\n",
       "      <td>NaN</td>\n",
       "      <td>00:00</td>\n",
       "      <td>0</td>\n",
       "      <td>0.0</td>\n",
       "      <td>12.0</td>\n",
       "      <td>DET</td>\n",
       "      <td>...</td>\n",
       "      <td>NaN</td>\n",
       "      <td>0.000000</td>\n",
       "      <td>1.000000</td>\n",
       "      <td>0.000000</td>\n",
       "      <td>1.000000</td>\n",
       "      <td>0.934245</td>\n",
       "      <td>0.000000</td>\n",
       "      <td>NaN</td>\n",
       "      <td>NaN</td>\n",
       "      <td>2016</td>\n",
       "    </tr>\n",
       "  </tbody>\n",
       "</table>\n",
       "<p>5 rows × 102 columns</p>\n",
       "</div>"
      ],
      "text/plain": [
       "              Date      GameID  Drive  qtr  down   time  TimeUnder  TimeSecs  \\\n",
       "362442  2017-01-01  2017010102     20    4   1.0  00:22          1      22.0   \n",
       "362443  2017-01-01  2017010102     20    4   NaN  00:13          1      13.0   \n",
       "362444  2017-01-01  2017010102     21    4   NaN  00:13          1      13.0   \n",
       "362445  2017-01-01  2017010102     21    4   1.0  00:12          1      12.0   \n",
       "362446  2017-01-01  2017010102     21    4   NaN  00:00          0       0.0   \n",
       "\n",
       "        PlayTimeDiff SideofField  ...  yacEPA  Home_WP_pre  Away_WP_pre  \\\n",
       "362442           6.0          GB  ...     0.0     0.051901     0.948099   \n",
       "362443           9.0          GB  ...     NaN     0.093435     0.906565   \n",
       "362444           0.0         DET  ...     NaN     0.034069     0.965931   \n",
       "362445           1.0         DET  ...     NaN     0.035708     0.964292   \n",
       "362446          12.0         DET  ...     NaN     0.000000     1.000000   \n",
       "\n",
       "        Home_WP_post  Away_WP_post  Win_Prob       WPA    airWPA yacWPA  \\\n",
       "362442      0.093435      0.906565  0.051901  0.041534  0.041534    0.0   \n",
       "362443      0.034069      0.965931  0.093435 -0.059366       NaN    NaN   \n",
       "362444      0.035708      0.964292  0.965931 -0.001639       NaN    NaN   \n",
       "362445      0.000000      1.000000  0.964292  0.035708       NaN    NaN   \n",
       "362446      0.000000      1.000000  0.934245  0.000000       NaN    NaN   \n",
       "\n",
       "        Season  \n",
       "362442    2016  \n",
       "362443    2016  \n",
       "362444    2016  \n",
       "362445    2016  \n",
       "362446    2016  \n",
       "\n",
       "[5 rows x 102 columns]"
      ]
     },
     "execution_count": 1,
     "metadata": {},
     "output_type": "execute_result"
    }
   ],
   "source": [
    "import pandas as pd\n",
    "football=pd.read_csv(\"/home/dul/Football_dataset.csv\")\n",
    "football.tail()"
   ]
  },
  {
   "cell_type": "code",
   "execution_count": 3,
   "metadata": {},
   "outputs": [
    {
     "data": {
      "text/plain": [
       "Date         object\n",
       "GameID        int64\n",
       "Drive         int64\n",
       "qtr           int64\n",
       "down        float64\n",
       "             ...   \n",
       "Win_Prob    float64\n",
       "WPA         float64\n",
       "airWPA      float64\n",
       "yacWPA      float64\n",
       "Season        int64\n",
       "Length: 102, dtype: object"
      ]
     },
     "execution_count": 3,
     "metadata": {},
     "output_type": "execute_result"
    }
   ],
   "source": [
    "# to find the data type of each column\n",
    "football.dtypes"
   ]
  },
  {
   "cell_type": "code",
   "execution_count": 4,
   "metadata": {},
   "outputs": [],
   "source": [
    "# to change the data type of qtr from int to float\n",
    "# you can either overwrite the existing column or add as a new column\n",
    "# here overwriting the existing column\n",
    "football['qtr'] = football.qtr.astype(float)"
   ]
  },
  {
   "cell_type": "code",
   "execution_count": 5,
   "metadata": {},
   "outputs": [
    {
     "data": {
      "text/plain": [
       "Date         object\n",
       "GameID        int64\n",
       "Drive         int64\n",
       "qtr         float64\n",
       "down        float64\n",
       "             ...   \n",
       "Win_Prob    float64\n",
       "WPA         float64\n",
       "airWPA      float64\n",
       "yacWPA      float64\n",
       "Season        int64\n",
       "Length: 102, dtype: object"
      ]
     },
     "execution_count": 5,
     "metadata": {},
     "output_type": "execute_result"
    }
   ],
   "source": [
    "football.dtypes"
   ]
  },
  {
   "cell_type": "code",
   "execution_count": 8,
   "metadata": {},
   "outputs": [
    {
     "name": "stdout",
     "output_type": "stream",
     "text": [
      "{'Date': dtype('O'), 'GameID': dtype('int64'), 'Drive': dtype('int64'), 'qtr': dtype('float64'), 'down': dtype('float64'), 'time': dtype('O'), 'TimeUnder': dtype('int64'), 'TimeSecs': dtype('float64'), 'PlayTimeDiff': dtype('float64'), 'SideofField': dtype('O'), 'yrdln': dtype('float64'), 'yrdline100': dtype('float64'), 'ydstogo': dtype('int64'), 'ydsnet': dtype('int64'), 'GoalToGo': dtype('float64'), 'FirstDown': dtype('float64'), 'posteam': dtype('O'), 'DefensiveTeam': dtype('O'), 'desc': dtype('O'), 'PlayAttempted': dtype('int64'), 'Yards.Gained': dtype('int64'), 'sp': dtype('int64'), 'Touchdown': dtype('int64'), 'ExPointResult': dtype('O'), 'TwoPointConv': dtype('O'), 'DefTwoPoint': dtype('O'), 'Safety': dtype('int64'), 'Onsidekick': dtype('int64'), 'PuntResult': dtype('O'), 'PlayType': dtype('O'), 'Passer': dtype('O'), 'Passer_ID': dtype('O'), 'PassAttempt': dtype('int64'), 'PassOutcome': dtype('O'), 'PassLength': dtype('O'), 'AirYards': dtype('int64'), 'YardsAfterCatch': dtype('int64'), 'QBHit': dtype('int64'), 'PassLocation': dtype('O'), 'InterceptionThrown': dtype('int64'), 'Interceptor': dtype('O'), 'Rusher': dtype('O'), 'Rusher_ID': dtype('O'), 'RushAttempt': dtype('int64'), 'RunLocation': dtype('O'), 'RunGap': dtype('O'), 'Receiver': dtype('O'), 'Receiver_ID': dtype('O'), 'Reception': dtype('int64'), 'ReturnResult': dtype('O'), 'Returner': dtype('O'), 'BlockingPlayer': dtype('O'), 'Tackler1': dtype('O'), 'Tackler2': dtype('O'), 'FieldGoalResult': dtype('O'), 'FieldGoalDistance': dtype('float64'), 'Fumble': dtype('int64'), 'RecFumbTeam': dtype('O'), 'RecFumbPlayer': dtype('O'), 'Sack': dtype('int64'), 'Challenge.Replay': dtype('int64'), 'ChalReplayResult': dtype('O'), 'Accepted.Penalty': dtype('int64'), 'PenalizedTeam': dtype('O'), 'PenaltyType': dtype('O'), 'PenalizedPlayer': dtype('O'), 'Penalty.Yards': dtype('int64'), 'PosTeamScore': dtype('float64'), 'DefTeamScore': dtype('float64'), 'ScoreDiff': dtype('float64'), 'AbsScoreDiff': dtype('float64'), 'HomeTeam': dtype('O'), 'AwayTeam': dtype('O'), 'Timeout_Indicator': dtype('int64'), 'Timeout_Team': dtype('O'), 'posteam_timeouts_pre': dtype('int64'), 'HomeTimeouts_Remaining_Pre': dtype('int64'), 'AwayTimeouts_Remaining_Pre': dtype('int64'), 'HomeTimeouts_Remaining_Post': dtype('int64'), 'AwayTimeouts_Remaining_Post': dtype('int64'), 'No_Score_Prob': dtype('float64'), 'Opp_Field_Goal_Prob': dtype('float64'), 'Opp_Safety_Prob': dtype('float64'), 'Opp_Touchdown_Prob': dtype('float64'), 'Field_Goal_Prob': dtype('float64'), 'Safety_Prob': dtype('float64'), 'Touchdown_Prob': dtype('float64'), 'ExPoint_Prob': dtype('float64'), 'TwoPoint_Prob': dtype('float64'), 'ExpPts': dtype('float64'), 'EPA': dtype('float64'), 'airEPA': dtype('float64'), 'yacEPA': dtype('float64'), 'Home_WP_pre': dtype('float64'), 'Away_WP_pre': dtype('float64'), 'Home_WP_post': dtype('float64'), 'Away_WP_post': dtype('float64'), 'Win_Prob': dtype('float64'), 'WPA': dtype('float64'), 'airWPA': dtype('float64'), 'yacWPA': dtype('float64'), 'Season': dtype('int64')}\n"
     ]
    }
   ],
   "source": [
    "# to get data type of all 102 columns, stored datatypes of columns inside a dictionary\n",
    "dataTypeDict = dict(football.dtypes)\n",
    "print(dataTypeDict)"
   ]
  },
  {
   "cell_type": "code",
   "execution_count": 9,
   "metadata": {},
   "outputs": [
    {
     "ename": "AttributeError",
     "evalue": "Can only use .str accessor with string values!",
     "output_type": "error",
     "traceback": [
      "\u001b[0;31m---------------------------------------------------------------------------\u001b[0m",
      "\u001b[0;31mAttributeError\u001b[0m                            Traceback (most recent call last)",
      "\u001b[0;32m<ipython-input-9-daee0848e31b>\u001b[0m in \u001b[0;36m<module>\u001b[0;34m\u001b[0m\n\u001b[0;32m----> 1\u001b[0;31m \u001b[0mfootball\u001b[0m\u001b[0;34m.\u001b[0m\u001b[0mTimeUnder\u001b[0m\u001b[0;34m.\u001b[0m\u001b[0mstr\u001b[0m\u001b[0;34m.\u001b[0m\u001b[0mreplace\u001b[0m\u001b[0;34m(\u001b[0m\u001b[0;34m''\u001b[0m\u001b[0;34m,\u001b[0m\u001b[0;34m's'\u001b[0m\u001b[0;34m)\u001b[0m\u001b[0;34m\u001b[0m\u001b[0;34m\u001b[0m\u001b[0m\n\u001b[0m",
      "\u001b[0;32m~/anaconda3/lib/python3.8/site-packages/pandas/core/generic.py\u001b[0m in \u001b[0;36m__getattr__\u001b[0;34m(self, name)\u001b[0m\n\u001b[1;32m   5133\u001b[0m             \u001b[0;32mor\u001b[0m \u001b[0mname\u001b[0m \u001b[0;32min\u001b[0m \u001b[0mself\u001b[0m\u001b[0;34m.\u001b[0m\u001b[0m_accessors\u001b[0m\u001b[0;34m\u001b[0m\u001b[0;34m\u001b[0m\u001b[0m\n\u001b[1;32m   5134\u001b[0m         ):\n\u001b[0;32m-> 5135\u001b[0;31m             \u001b[0;32mreturn\u001b[0m \u001b[0mobject\u001b[0m\u001b[0;34m.\u001b[0m\u001b[0m__getattribute__\u001b[0m\u001b[0;34m(\u001b[0m\u001b[0mself\u001b[0m\u001b[0;34m,\u001b[0m \u001b[0mname\u001b[0m\u001b[0;34m)\u001b[0m\u001b[0;34m\u001b[0m\u001b[0;34m\u001b[0m\u001b[0m\n\u001b[0m\u001b[1;32m   5136\u001b[0m         \u001b[0;32melse\u001b[0m\u001b[0;34m:\u001b[0m\u001b[0;34m\u001b[0m\u001b[0;34m\u001b[0m\u001b[0m\n\u001b[1;32m   5137\u001b[0m             \u001b[0;32mif\u001b[0m \u001b[0mself\u001b[0m\u001b[0;34m.\u001b[0m\u001b[0m_info_axis\u001b[0m\u001b[0;34m.\u001b[0m\u001b[0m_can_hold_identifiers_and_holds_name\u001b[0m\u001b[0;34m(\u001b[0m\u001b[0mname\u001b[0m\u001b[0;34m)\u001b[0m\u001b[0;34m:\u001b[0m\u001b[0;34m\u001b[0m\u001b[0;34m\u001b[0m\u001b[0m\n",
      "\u001b[0;32m~/anaconda3/lib/python3.8/site-packages/pandas/core/accessor.py\u001b[0m in \u001b[0;36m__get__\u001b[0;34m(self, obj, cls)\u001b[0m\n\u001b[1;32m    185\u001b[0m             \u001b[0;31m# we're accessing the attribute of the class, i.e., Dataset.geo\u001b[0m\u001b[0;34m\u001b[0m\u001b[0;34m\u001b[0m\u001b[0;34m\u001b[0m\u001b[0m\n\u001b[1;32m    186\u001b[0m             \u001b[0;32mreturn\u001b[0m \u001b[0mself\u001b[0m\u001b[0;34m.\u001b[0m\u001b[0m_accessor\u001b[0m\u001b[0;34m\u001b[0m\u001b[0;34m\u001b[0m\u001b[0m\n\u001b[0;32m--> 187\u001b[0;31m         \u001b[0maccessor_obj\u001b[0m \u001b[0;34m=\u001b[0m \u001b[0mself\u001b[0m\u001b[0;34m.\u001b[0m\u001b[0m_accessor\u001b[0m\u001b[0;34m(\u001b[0m\u001b[0mobj\u001b[0m\u001b[0;34m)\u001b[0m\u001b[0;34m\u001b[0m\u001b[0;34m\u001b[0m\u001b[0m\n\u001b[0m\u001b[1;32m    188\u001b[0m         \u001b[0;31m# Replace the property with the accessor object. Inspired by:\u001b[0m\u001b[0;34m\u001b[0m\u001b[0;34m\u001b[0m\u001b[0;34m\u001b[0m\u001b[0m\n\u001b[1;32m    189\u001b[0m         \u001b[0;31m# https://www.pydanny.com/cached-property.html\u001b[0m\u001b[0;34m\u001b[0m\u001b[0;34m\u001b[0m\u001b[0;34m\u001b[0m\u001b[0m\n",
      "\u001b[0;32m~/anaconda3/lib/python3.8/site-packages/pandas/core/strings.py\u001b[0m in \u001b[0;36m__init__\u001b[0;34m(self, data)\u001b[0m\n\u001b[1;32m   2098\u001b[0m \u001b[0;34m\u001b[0m\u001b[0m\n\u001b[1;32m   2099\u001b[0m     \u001b[0;32mdef\u001b[0m \u001b[0m__init__\u001b[0m\u001b[0;34m(\u001b[0m\u001b[0mself\u001b[0m\u001b[0;34m,\u001b[0m \u001b[0mdata\u001b[0m\u001b[0;34m)\u001b[0m\u001b[0;34m:\u001b[0m\u001b[0;34m\u001b[0m\u001b[0;34m\u001b[0m\u001b[0m\n\u001b[0;32m-> 2100\u001b[0;31m         \u001b[0mself\u001b[0m\u001b[0;34m.\u001b[0m\u001b[0m_inferred_dtype\u001b[0m \u001b[0;34m=\u001b[0m \u001b[0mself\u001b[0m\u001b[0;34m.\u001b[0m\u001b[0m_validate\u001b[0m\u001b[0;34m(\u001b[0m\u001b[0mdata\u001b[0m\u001b[0;34m)\u001b[0m\u001b[0;34m\u001b[0m\u001b[0;34m\u001b[0m\u001b[0m\n\u001b[0m\u001b[1;32m   2101\u001b[0m         \u001b[0mself\u001b[0m\u001b[0;34m.\u001b[0m\u001b[0m_is_categorical\u001b[0m \u001b[0;34m=\u001b[0m \u001b[0mis_categorical_dtype\u001b[0m\u001b[0;34m(\u001b[0m\u001b[0mdata\u001b[0m\u001b[0;34m.\u001b[0m\u001b[0mdtype\u001b[0m\u001b[0;34m)\u001b[0m\u001b[0;34m\u001b[0m\u001b[0;34m\u001b[0m\u001b[0m\n\u001b[1;32m   2102\u001b[0m         \u001b[0mself\u001b[0m\u001b[0;34m.\u001b[0m\u001b[0m_is_string\u001b[0m \u001b[0;34m=\u001b[0m \u001b[0mdata\u001b[0m\u001b[0;34m.\u001b[0m\u001b[0mdtype\u001b[0m\u001b[0;34m.\u001b[0m\u001b[0mname\u001b[0m \u001b[0;34m==\u001b[0m \u001b[0;34m\"string\"\u001b[0m\u001b[0;34m\u001b[0m\u001b[0;34m\u001b[0m\u001b[0m\n",
      "\u001b[0;32m~/anaconda3/lib/python3.8/site-packages/pandas/core/strings.py\u001b[0m in \u001b[0;36m_validate\u001b[0;34m(data)\u001b[0m\n\u001b[1;32m   2155\u001b[0m \u001b[0;34m\u001b[0m\u001b[0m\n\u001b[1;32m   2156\u001b[0m         \u001b[0;32mif\u001b[0m \u001b[0minferred_dtype\u001b[0m \u001b[0;32mnot\u001b[0m \u001b[0;32min\u001b[0m \u001b[0mallowed_types\u001b[0m\u001b[0;34m:\u001b[0m\u001b[0;34m\u001b[0m\u001b[0;34m\u001b[0m\u001b[0m\n\u001b[0;32m-> 2157\u001b[0;31m             \u001b[0;32mraise\u001b[0m \u001b[0mAttributeError\u001b[0m\u001b[0;34m(\u001b[0m\u001b[0;34m\"Can only use .str accessor with string values!\"\u001b[0m\u001b[0;34m)\u001b[0m\u001b[0;34m\u001b[0m\u001b[0;34m\u001b[0m\u001b[0m\n\u001b[0m\u001b[1;32m   2158\u001b[0m         \u001b[0;32mreturn\u001b[0m \u001b[0minferred_dtype\u001b[0m\u001b[0;34m\u001b[0m\u001b[0;34m\u001b[0m\u001b[0m\n\u001b[1;32m   2159\u001b[0m \u001b[0;34m\u001b[0m\u001b[0m\n",
      "\u001b[0;31mAttributeError\u001b[0m: Can only use .str accessor with string values!"
     ]
    }
   ],
   "source": [
    "#football.TimeUnder.str.replace('','s')"
   ]
  },
  {
   "cell_type": "code",
   "execution_count": 12,
   "metadata": {},
   "outputs": [
    {
     "data": {
      "text/plain": [
       "0         15\n",
       "1         15\n",
       "2         15\n",
       "3         14\n",
       "4         14\n",
       "          ..\n",
       "362442     1\n",
       "362443     1\n",
       "362444     1\n",
       "362445     1\n",
       "362446     0\n",
       "Name: TimeUnder, Length: 362447, dtype: object"
      ]
     },
     "execution_count": 12,
     "metadata": {},
     "output_type": "execute_result"
    }
   ],
   "source": [
    "# To a float data set cant add symbols so convert float data to string\n",
    "football.TimeUnder.astype(str)"
   ]
  },
  {
   "cell_type": "code",
   "execution_count": 26,
   "metadata": {},
   "outputs": [
    {
     "data": {
      "text/plain": [
       "0         15s\n",
       "1         15s\n",
       "2         15s\n",
       "3         14s\n",
       "4         14s\n",
       "         ... \n",
       "362442     1s\n",
       "362443     1s\n",
       "362444     1s\n",
       "362445     1s\n",
       "362446     0s\n",
       "Name: TimeUnder, Length: 362447, dtype: object"
      ]
     },
     "execution_count": 26,
     "metadata": {},
     "output_type": "execute_result"
    }
   ],
   "source": [
    "# To append symbol to dataset\n",
    "football['TimeUnder'].astype(str) + 's'\n",
    "# say in the dataset already in TimeUnder a symbol Seconds was there, to replace it\n",
    "#football.TimeUnder.str.replace('s','$')\n",
    "# s the symbol, already present. $ symbol we wanted to be newly appended\n",
    "# and to do a math operation on it have to convert string to float\n",
    "# football.TimeUnder.str.astype(float).mean()"
   ]
  },
  {
   "cell_type": "code",
   "execution_count": 31,
   "metadata": {},
   "outputs": [
    {
     "data": {
      "text/plain": [
       "0         15\n",
       "1         15\n",
       "2         15\n",
       "3         14\n",
       "4         14\n",
       "          ..\n",
       "362442     1\n",
       "362443     1\n",
       "362444     1\n",
       "362445     1\n",
       "362446     0\n",
       "Name: TimeUnder, Length: 362447, dtype: int64"
      ]
     },
     "execution_count": 31,
     "metadata": {},
     "output_type": "execute_result"
    }
   ],
   "source": [
    "# until saved the symbol not saved in dataset\n",
    "football.TimeUnder"
   ]
  },
  {
   "cell_type": "code",
   "execution_count": 33,
   "metadata": {},
   "outputs": [],
   "source": [
    "# to save changes to the csv\n",
    "football1=football['TimeUnder'].astype(str) + 's'\n",
    "football1.to_csv(\"football_modified.csv\")"
   ]
  },
  {
   "cell_type": "code",
   "execution_count": 34,
   "metadata": {},
   "outputs": [
    {
     "data": {
      "text/html": [
       "<div>\n",
       "<style scoped>\n",
       "    .dataframe tbody tr th:only-of-type {\n",
       "        vertical-align: middle;\n",
       "    }\n",
       "\n",
       "    .dataframe tbody tr th {\n",
       "        vertical-align: top;\n",
       "    }\n",
       "\n",
       "    .dataframe thead th {\n",
       "        text-align: right;\n",
       "    }\n",
       "</style>\n",
       "<table border=\"1\" class=\"dataframe\">\n",
       "  <thead>\n",
       "    <tr style=\"text-align: right;\">\n",
       "      <th></th>\n",
       "      <th>Unnamed: 0</th>\n",
       "      <th>TimeUnder</th>\n",
       "    </tr>\n",
       "  </thead>\n",
       "  <tbody>\n",
       "    <tr>\n",
       "      <th>0</th>\n",
       "      <td>0</td>\n",
       "      <td>15s</td>\n",
       "    </tr>\n",
       "    <tr>\n",
       "      <th>1</th>\n",
       "      <td>1</td>\n",
       "      <td>15s</td>\n",
       "    </tr>\n",
       "    <tr>\n",
       "      <th>2</th>\n",
       "      <td>2</td>\n",
       "      <td>15s</td>\n",
       "    </tr>\n",
       "    <tr>\n",
       "      <th>3</th>\n",
       "      <td>3</td>\n",
       "      <td>14s</td>\n",
       "    </tr>\n",
       "    <tr>\n",
       "      <th>4</th>\n",
       "      <td>4</td>\n",
       "      <td>14s</td>\n",
       "    </tr>\n",
       "  </tbody>\n",
       "</table>\n",
       "</div>"
      ],
      "text/plain": [
       "   Unnamed: 0 TimeUnder\n",
       "0           0       15s\n",
       "1           1       15s\n",
       "2           2       15s\n",
       "3           3       14s\n",
       "4           4       14s"
      ]
     },
     "execution_count": 34,
     "metadata": {},
     "output_type": "execute_result"
    }
   ],
   "source": [
    "# opened the new modified dataset\n",
    "football_m=pd.read_csv(\"/home/dul/football_modified.csv\")\n",
    "football_m.head()"
   ]
  },
  {
   "cell_type": "code",
   "execution_count": 35,
   "metadata": {},
   "outputs": [
    {
     "data": {
      "text/plain": [
       "Unnamed: 0     int64\n",
       "TimeUnder     object\n",
       "dtype: object"
      ]
     },
     "execution_count": 35,
     "metadata": {},
     "output_type": "execute_result"
    }
   ],
   "source": [
    "football_m.dtypes"
   ]
  },
  {
   "cell_type": "code",
   "execution_count": 36,
   "metadata": {},
   "outputs": [],
   "source": [
    "#  a single column in the dataset is modified and stored into the dataset\n",
    "football['TimeUnder']=football['TimeUnder'].astype(str) + 's'"
   ]
  },
  {
   "cell_type": "code",
   "execution_count": 37,
   "metadata": {},
   "outputs": [
    {
     "data": {
      "text/plain": [
       "0         15s\n",
       "1         15s\n",
       "2         15s\n",
       "3         14s\n",
       "4         14s\n",
       "         ... \n",
       "362442     1s\n",
       "362443     1s\n",
       "362444     1s\n",
       "362445     1s\n",
       "362446     0s\n",
       "Name: TimeUnder, Length: 362447, dtype: object"
      ]
     },
     "execution_count": 37,
     "metadata": {},
     "output_type": "execute_result"
    }
   ],
   "source": [
    "football.TimeUnder"
   ]
  },
  {
   "cell_type": "code",
   "execution_count": 38,
   "metadata": {},
   "outputs": [],
   "source": [
    "football.to_csv(\"football_modified.csv\")"
   ]
  },
  {
   "cell_type": "code",
   "execution_count": 39,
   "metadata": {},
   "outputs": [
    {
     "name": "stderr",
     "output_type": "stream",
     "text": [
      "/home/dul/anaconda3/lib/python3.8/site-packages/IPython/core/interactiveshell.py:3145: DtypeWarning: Columns (26,52) have mixed types.Specify dtype option on import or set low_memory=False.\n",
      "  has_raised = await self.run_ast_nodes(code_ast.body, cell_name,\n"
     ]
    },
    {
     "data": {
      "text/html": [
       "<div>\n",
       "<style scoped>\n",
       "    .dataframe tbody tr th:only-of-type {\n",
       "        vertical-align: middle;\n",
       "    }\n",
       "\n",
       "    .dataframe tbody tr th {\n",
       "        vertical-align: top;\n",
       "    }\n",
       "\n",
       "    .dataframe thead th {\n",
       "        text-align: right;\n",
       "    }\n",
       "</style>\n",
       "<table border=\"1\" class=\"dataframe\">\n",
       "  <thead>\n",
       "    <tr style=\"text-align: right;\">\n",
       "      <th></th>\n",
       "      <th>Unnamed: 0</th>\n",
       "      <th>Date</th>\n",
       "      <th>GameID</th>\n",
       "      <th>Drive</th>\n",
       "      <th>qtr</th>\n",
       "      <th>down</th>\n",
       "      <th>time</th>\n",
       "      <th>TimeUnder</th>\n",
       "      <th>TimeSecs</th>\n",
       "      <th>PlayTimeDiff</th>\n",
       "      <th>...</th>\n",
       "      <th>yacEPA</th>\n",
       "      <th>Home_WP_pre</th>\n",
       "      <th>Away_WP_pre</th>\n",
       "      <th>Home_WP_post</th>\n",
       "      <th>Away_WP_post</th>\n",
       "      <th>Win_Prob</th>\n",
       "      <th>WPA</th>\n",
       "      <th>airWPA</th>\n",
       "      <th>yacWPA</th>\n",
       "      <th>Season</th>\n",
       "    </tr>\n",
       "  </thead>\n",
       "  <tbody>\n",
       "    <tr>\n",
       "      <th>0</th>\n",
       "      <td>0</td>\n",
       "      <td>2009-09-10</td>\n",
       "      <td>2009091000</td>\n",
       "      <td>1</td>\n",
       "      <td>1.0</td>\n",
       "      <td>NaN</td>\n",
       "      <td>15:00</td>\n",
       "      <td>15s</td>\n",
       "      <td>3600.0</td>\n",
       "      <td>0.0</td>\n",
       "      <td>...</td>\n",
       "      <td>NaN</td>\n",
       "      <td>0.485675</td>\n",
       "      <td>0.514325</td>\n",
       "      <td>0.546433</td>\n",
       "      <td>0.453567</td>\n",
       "      <td>0.485675</td>\n",
       "      <td>0.060758</td>\n",
       "      <td>NaN</td>\n",
       "      <td>NaN</td>\n",
       "      <td>2009</td>\n",
       "    </tr>\n",
       "    <tr>\n",
       "      <th>1</th>\n",
       "      <td>1</td>\n",
       "      <td>2009-09-10</td>\n",
       "      <td>2009091000</td>\n",
       "      <td>1</td>\n",
       "      <td>1.0</td>\n",
       "      <td>1.0</td>\n",
       "      <td>14:53</td>\n",
       "      <td>15s</td>\n",
       "      <td>3593.0</td>\n",
       "      <td>7.0</td>\n",
       "      <td>...</td>\n",
       "      <td>1.146076</td>\n",
       "      <td>0.546433</td>\n",
       "      <td>0.453567</td>\n",
       "      <td>0.551088</td>\n",
       "      <td>0.448912</td>\n",
       "      <td>0.546433</td>\n",
       "      <td>0.004655</td>\n",
       "      <td>-0.032244</td>\n",
       "      <td>0.036899</td>\n",
       "      <td>2009</td>\n",
       "    </tr>\n",
       "    <tr>\n",
       "      <th>2</th>\n",
       "      <td>2</td>\n",
       "      <td>2009-09-10</td>\n",
       "      <td>2009091000</td>\n",
       "      <td>1</td>\n",
       "      <td>1.0</td>\n",
       "      <td>2.0</td>\n",
       "      <td>14:16</td>\n",
       "      <td>15s</td>\n",
       "      <td>3556.0</td>\n",
       "      <td>37.0</td>\n",
       "      <td>...</td>\n",
       "      <td>NaN</td>\n",
       "      <td>0.551088</td>\n",
       "      <td>0.448912</td>\n",
       "      <td>0.510793</td>\n",
       "      <td>0.489207</td>\n",
       "      <td>0.551088</td>\n",
       "      <td>-0.040295</td>\n",
       "      <td>NaN</td>\n",
       "      <td>NaN</td>\n",
       "      <td>2009</td>\n",
       "    </tr>\n",
       "    <tr>\n",
       "      <th>3</th>\n",
       "      <td>3</td>\n",
       "      <td>2009-09-10</td>\n",
       "      <td>2009091000</td>\n",
       "      <td>1</td>\n",
       "      <td>1.0</td>\n",
       "      <td>3.0</td>\n",
       "      <td>13:35</td>\n",
       "      <td>14s</td>\n",
       "      <td>3515.0</td>\n",
       "      <td>41.0</td>\n",
       "      <td>...</td>\n",
       "      <td>-5.031425</td>\n",
       "      <td>0.510793</td>\n",
       "      <td>0.489207</td>\n",
       "      <td>0.461217</td>\n",
       "      <td>0.538783</td>\n",
       "      <td>0.510793</td>\n",
       "      <td>-0.049576</td>\n",
       "      <td>0.106663</td>\n",
       "      <td>-0.156239</td>\n",
       "      <td>2009</td>\n",
       "    </tr>\n",
       "    <tr>\n",
       "      <th>4</th>\n",
       "      <td>4</td>\n",
       "      <td>2009-09-10</td>\n",
       "      <td>2009091000</td>\n",
       "      <td>1</td>\n",
       "      <td>1.0</td>\n",
       "      <td>4.0</td>\n",
       "      <td>13:27</td>\n",
       "      <td>14s</td>\n",
       "      <td>3507.0</td>\n",
       "      <td>8.0</td>\n",
       "      <td>...</td>\n",
       "      <td>NaN</td>\n",
       "      <td>0.461217</td>\n",
       "      <td>0.538783</td>\n",
       "      <td>0.558929</td>\n",
       "      <td>0.441071</td>\n",
       "      <td>0.461217</td>\n",
       "      <td>0.097712</td>\n",
       "      <td>NaN</td>\n",
       "      <td>NaN</td>\n",
       "      <td>2009</td>\n",
       "    </tr>\n",
       "  </tbody>\n",
       "</table>\n",
       "<p>5 rows × 103 columns</p>\n",
       "</div>"
      ],
      "text/plain": [
       "   Unnamed: 0        Date      GameID  Drive  qtr  down   time TimeUnder  \\\n",
       "0           0  2009-09-10  2009091000      1  1.0   NaN  15:00       15s   \n",
       "1           1  2009-09-10  2009091000      1  1.0   1.0  14:53       15s   \n",
       "2           2  2009-09-10  2009091000      1  1.0   2.0  14:16       15s   \n",
       "3           3  2009-09-10  2009091000      1  1.0   3.0  13:35       14s   \n",
       "4           4  2009-09-10  2009091000      1  1.0   4.0  13:27       14s   \n",
       "\n",
       "   TimeSecs  PlayTimeDiff  ...    yacEPA  Home_WP_pre  Away_WP_pre  \\\n",
       "0    3600.0           0.0  ...       NaN     0.485675     0.514325   \n",
       "1    3593.0           7.0  ...  1.146076     0.546433     0.453567   \n",
       "2    3556.0          37.0  ...       NaN     0.551088     0.448912   \n",
       "3    3515.0          41.0  ... -5.031425     0.510793     0.489207   \n",
       "4    3507.0           8.0  ...       NaN     0.461217     0.538783   \n",
       "\n",
       "   Home_WP_post  Away_WP_post  Win_Prob       WPA    airWPA    yacWPA Season  \n",
       "0      0.546433      0.453567  0.485675  0.060758       NaN       NaN   2009  \n",
       "1      0.551088      0.448912  0.546433  0.004655 -0.032244  0.036899   2009  \n",
       "2      0.510793      0.489207  0.551088 -0.040295       NaN       NaN   2009  \n",
       "3      0.461217      0.538783  0.510793 -0.049576  0.106663 -0.156239   2009  \n",
       "4      0.558929      0.441071  0.461217  0.097712       NaN       NaN   2009  \n",
       "\n",
       "[5 rows x 103 columns]"
      ]
     },
     "execution_count": 39,
     "metadata": {},
     "output_type": "execute_result"
    }
   ],
   "source": [
    "football_m=pd.read_csv(\"/home/dul/football_modified.csv\")\n",
    "football_m.head()"
   ]
  },
  {
   "cell_type": "code",
   "execution_count": null,
   "metadata": {},
   "outputs": [],
   "source": []
  }
 ],
 "metadata": {
  "kernelspec": {
   "display_name": "Python 3",
   "language": "python",
   "name": "python3"
  },
  "language_info": {
   "codemirror_mode": {
    "name": "ipython",
    "version": 3
   },
   "file_extension": ".py",
   "mimetype": "text/x-python",
   "name": "python",
   "nbconvert_exporter": "python",
   "pygments_lexer": "ipython3",
   "version": "3.8.6"
  }
 },
 "nbformat": 4,
 "nbformat_minor": 4
}
